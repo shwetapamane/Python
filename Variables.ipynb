{
 "cells": [
  {
   "cell_type": "markdown",
   "id": "f328d194-3a29-49a8-a0d2-131ca6600162",
   "metadata": {},
   "source": [
    "### Python Variables Practice Notebook."
   ]
  },
  {
   "cell_type": "code",
   "execution_count": 21,
   "id": "24ea13e2-7958-430d-9b81-ae1d3a9cee7e",
   "metadata": {},
   "outputs": [
    {
     "name": "stdout",
     "output_type": "stream",
     "text": [
      "10\n"
     ]
    }
   ],
   "source": [
    "# 1. Basic Variable Assignment\n",
    "# Question: Assign the value 10 to a variable named `x`, and print it.\n",
    "x = 10\n",
    "print(x)"
   ]
  },
  {
   "cell_type": "code",
   "execution_count": 19,
   "id": "d739132a-9199-403f-ba97-ea1bfe3864a4",
   "metadata": {},
   "outputs": [
    {
     "name": "stdout",
     "output_type": "stream",
     "text": [
      "Before Swapping\n",
      " a= 5\n",
      "b= 10\n",
      "After Swapping\n",
      " a= 10\n",
      "b= 5\n"
     ]
    }
   ],
   "source": [
    "# 2. Swapping Variables\n",
    "# Question: Swap the values of two variables, `a = 5` and `b = 10`, without using a temporary variable.\n",
    "a = 5\n",
    "b = 10\n",
    "print(\"Before Swapping\\n\",\"a=\",a)\n",
    "print( \"b=\",b)\n",
    "a , b = b, a\n",
    "print(\"After Swapping\\n\",\"a=\",a)\n",
    "print( \"b=\",b)"
   ]
  },
  {
   "cell_type": "code",
   "execution_count": 25,
   "id": "d21ff050-c312-4f8f-9a6d-831bbf9bd00e",
   "metadata": {},
   "outputs": [
    {
     "data": {
      "text/plain": [
       "float"
      ]
     },
     "execution_count": 25,
     "metadata": {},
     "output_type": "execute_result"
    }
   ],
   "source": [
    "# 3. Type Checking\n",
    "# Question: Create a variable `y` with the value 3.14 and check its data type using Python's built-in function.\n",
    "y = 3.14\n",
    "type(y)"
   ]
  },
  {
   "cell_type": "code",
   "execution_count": 33,
   "id": "69b2336e-dc84-4902-bf30-2f36fbed76e3",
   "metadata": {},
   "outputs": [
    {
     "name": "stdout",
     "output_type": "stream",
     "text": [
      "1 2 3\n"
     ]
    }
   ],
   "source": [
    "# 4. Multiple Assignments\n",
    "# Question: Assign values 1, 2, and 3 to variables `p`, `q`, and `r` in a single line.\n",
    "p,q,r = 1,2,3\n",
    "print(p,q,r)"
   ]
  },
  {
   "cell_type": "code",
   "execution_count": 35,
   "id": "1262abdb-c344-40be-b084-1302a49fdfc2",
   "metadata": {},
   "outputs": [
    {
     "name": "stdout",
     "output_type": "stream",
     "text": [
      "Hello Shweta\n"
     ]
    }
   ],
   "source": [
    "# 5. String Variable\n",
    "# Question: Create a variable `name` and assign your name to it. Print a greeting message using this variable.\n",
    "name = \"Shweta\"\n",
    "print(\"Hello\",name)"
   ]
  },
  {
   "cell_type": "code",
   "execution_count": 37,
   "id": "9a27b5ee-9143-4329-98f7-5f0040f24ade",
   "metadata": {},
   "outputs": [
    {
     "name": "stdout",
     "output_type": "stream",
     "text": [
      "3.14159\n"
     ]
    }
   ],
   "source": [
    "# 6. Constant Variable (Convention)\n",
    "# Question: Define a constant variable `PI` with the value 3.14159 and print it.\n",
    "PI=3.14159\n",
    "print(PI)"
   ]
  },
  {
   "cell_type": "code",
   "execution_count": 48,
   "id": "10204a8d-09c7-49a8-92a1-e9fbc633ebd4",
   "metadata": {},
   "outputs": [
    {
     "name": "stdout",
     "output_type": "stream",
     "text": [
      "Before reassignment: 50\n",
      "After reassignment: fifty\n"
     ]
    }
   ],
   "source": [
    "# 7. Variable Reassignment\n",
    "# Question: Assign the value 50 to `num`, then reassign it with the string 'fifty'. Print both values.\n",
    "num = 50\n",
    "print(\"Before reassignment:\",num)\n",
    "num = \"fifty\"\n",
    "print(\"After reassignment:\",num)"
   ]
  },
  {
   "cell_type": "code",
   "execution_count": 52,
   "id": "4b20f43d-f1ea-42c4-a528-0b3e558f283c",
   "metadata": {},
   "outputs": [
    {
     "name": "stdout",
     "output_type": "stream",
     "text": [
      "Variable with integer value: 40\n",
      "Variable with String value: Hello\n"
     ]
    }
   ],
   "source": [
    "# 8. Dynamic Typing\n",
    "# Question: Assign an integer value to a variable and later change it to a string. Print both values.\n",
    "a = 40\n",
    "print(\"Variable with integer value:\",a)\n",
    "a = \"Hello\"\n",
    "print(\"Variable with String value:\",a)"
   ]
  },
  {
   "cell_type": "code",
   "execution_count": 56,
   "id": "74923669-c6d1-4869-854a-4985d4c13add",
   "metadata": {},
   "outputs": [
    {
     "name": "stdout",
     "output_type": "stream",
     "text": [
      "90\n"
     ]
    },
    {
     "ename": "NameError",
     "evalue": "name 'num1' is not defined",
     "output_type": "error",
     "traceback": [
      "\u001b[1;31m---------------------------------------------------------------------------\u001b[0m",
      "\u001b[1;31mNameError\u001b[0m                                 Traceback (most recent call last)",
      "Cell \u001b[1;32mIn[56], line 6\u001b[0m\n\u001b[0;32m      4\u001b[0m \u001b[38;5;28mprint\u001b[39m(num1)\n\u001b[0;32m      5\u001b[0m \u001b[38;5;28;01mdel\u001b[39;00m num1\n\u001b[1;32m----> 6\u001b[0m \u001b[38;5;28mprint\u001b[39m(num1)\n",
      "\u001b[1;31mNameError\u001b[0m: name 'num1' is not defined"
     ]
    }
   ],
   "source": [
    "# 9. Deleting Variables\n",
    "# Question: Assign a value to a variable and then delete it using `del`. Try printing it after deletion to see what happens.\n",
    "num1 = 90\n",
    "print(num1)\n",
    "del num1\n",
    "print(num1)"
   ]
  },
  {
   "cell_type": "code",
   "execution_count": 58,
   "id": "39553d04-ad11-457a-95f3-b569fb2266a4",
   "metadata": {},
   "outputs": [
    {
     "name": "stdout",
     "output_type": "stream",
     "text": [
      "True\n",
      "False\n"
     ]
    }
   ],
   "source": [
    "# 10. Boolean Variables\n",
    "# Question: Assign `True` to a variable `is_active` and `False` to `is_deleted`. Print both values.\n",
    "is_active = 'True'\n",
    "is_deleted = 'False'\n",
    "print(is_active)\n",
    "print(is_deleted)"
   ]
  },
  {
   "cell_type": "code",
   "execution_count": 62,
   "id": "95b3a5b6-7c66-43fa-9d82-6e90f4c88b80",
   "metadata": {},
   "outputs": [
    {
     "data": {
      "text/plain": [
       "int"
      ]
     },
     "execution_count": 62,
     "metadata": {},
     "output_type": "execute_result"
    }
   ],
   "source": [
    "# 11. Converting Data Types\n",
    "# Question: Assign `100` to a variable `num_str` as a string, then convert it to an integer and print its type.\n",
    "num_str = '100'\n",
    "num_str = int(num_str)\n",
    "type(num_str)"
   ]
  },
  {
   "cell_type": "code",
   "execution_count": null,
   "id": "fbc8e426-fe3e-4f46-b90a-2727e951e18c",
   "metadata": {},
   "outputs": [],
   "source": []
  }
 ],
 "metadata": {
  "kernelspec": {
   "display_name": "Python 3 (ipykernel)",
   "language": "python",
   "name": "python3"
  },
  "language_info": {
   "codemirror_mode": {
    "name": "ipython",
    "version": 3
   },
   "file_extension": ".py",
   "mimetype": "text/x-python",
   "name": "python",
   "nbconvert_exporter": "python",
   "pygments_lexer": "ipython3",
   "version": "3.12.4"
  }
 },
 "nbformat": 4,
 "nbformat_minor": 5
}
